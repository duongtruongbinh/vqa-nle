{
 "cells": [
  {
   "cell_type": "code",
   "execution_count": null,
   "id": "c7419dad",
   "metadata": {},
   "outputs": [],
   "source": [
    "import re\n",
    "import string  \n",
    "\n",
    "def accuracy_reward(completions, solution, image_ids, problems, **kwargs):\n",
    "    \"\"\"\n",
    "    Reward function cho short-text answers:\n",
    "      - 1.0 nếu câu trả lời của học sinh khớp hoàn toàn với ground truth.\n",
    "      - 0.5 nếu số từ trùng khớp >= 50% số từ trong ground truth.\n",
    "      - 0.0 nếu không đáp ứng các điều kiện trên.\n",
    "    \"\"\"\n",
    "    rewards = []\n",
    "    PARTIAL_THRESHOLD = 0.5 \n",
    "\n",
    "    for comp, sol, image_id, problem in zip(completions, solution, image_ids, problems):\n",
    "        # Giả sử completion là chuỗi; nếu là list of dict: content = comp[0][\"content\"]\n",
    "        content = comp\n",
    "        reward = 0.0\n",
    "\n",
    "        # --- Trích xuất câu trả lời từ ground truth và model ---\n",
    "        sol_match = re.search(r\"<answer>(.*?)</answer>\", sol, flags=re.DOTALL | re.IGNORECASE)\n",
    "        ground_truth = sol_match.group(1).strip() if sol_match else sol.strip()\n",
    "\n",
    "        content_match = re.search(r\"<answer>(.*?)</answer>\", content, flags=re.DOTALL | re.IGNORECASE)\n",
    "        student_answer = content_match.group(1).strip() if content_match else \"\"\n",
    "\n",
    "        # --- Chuẩn hóa văn bản để so sánh ---\n",
    "        def normalize_text(text):\n",
    "            return (\n",
    "                text.lower()\n",
    "                    .translate(str.maketrans('', '', string.punctuation))\n",
    "                    .strip()\n",
    "            )\n",
    "\n",
    "        normalized_gt = normalize_text(ground_truth)\n",
    "        normalized_sa = normalize_text(student_answer)\n",
    "\n",
    "        # --- Logic chấm điểm ---\n",
    "        if not normalized_sa or not normalized_gt:\n",
    "            reward = 0.0\n",
    "        elif normalized_sa == normalized_gt:\n",
    "            reward = 1.0\n",
    "        else:\n",
    "            gt_tokens = [w for w in normalized_gt.split() if w]\n",
    "            sa_token_set = set(normalized_sa.split())\n",
    "            overlap = sum(1 for w in gt_tokens if w in sa_token_set)\n",
    "            ratio = overlap / len(gt_tokens) if gt_tokens else 0.0\n",
    "\n",
    "            if ratio >= PARTIAL_THRESHOLD:\n",
    "                reward = 0.5\n",
    "            else:\n",
    "                reward = 0.0\n",
    "\n",
    "        rewards.append(reward)\n",
    "\n",
    "    return rewards\n"
   ]
  },
  {
   "cell_type": "code",
   "execution_count": null,
   "id": "e8ed45cc",
   "metadata": {},
   "outputs": [
    {
     "name": "stdout",
     "output_type": "stream",
     "text": [
      "Sample 2 - Reward: [0.5]\n"
     ]
    }
   ],
   "source": [
    "completions_sample_2 = [\n",
    "    \"<thinking>...</thinking><answer>learning basics</answer><explain>...</explain>\"\n",
    "]\n",
    "solutions_sample_2 = [\n",
    "    \"<answer>machine learning basics</answer><explain>...</explain>\"\n",
    "]\n",
    "image_ids_sample_2 = [\"img_002\"]\n",
    "problems_sample_2 = [\"What is the topic?\"]\n",
    "\n",
    "# Test\n",
    "reward_2 = accuracy_reward(completions_sample_2, solutions_sample_2, image_ids_sample_2, problems_sample_2)\n",
    "print(f\"Sample 2 - Reward: {reward_2}\") "
   ]
  },
  {
   "cell_type": "code",
   "execution_count": 8,
   "id": "3a38bf36",
   "metadata": {},
   "outputs": [
    {
     "data": {
      "text/plain": [
       "[0.0]"
      ]
     },
     "execution_count": 8,
     "metadata": {},
     "output_type": "execute_result"
    }
   ],
   "source": [
    "completions_sample_2 = [\n",
    "    \"<thinking><SUMMARY>...</SUMMARY><ANALYSIS>...</ANALYSIS><REASONING_STEPS>...</REASONING_STEPS><CONCLUSION>...</CONCLUSION></thinking><answer>Cửa sổ đang mở</answer><explain>Tôi thấy cửa sổ trong ảnh đang được mở ra.</explain>\"\n",
    "]\n",
    "\n",
    "solutions_sample_2 = [\n",
    "    \"<answer>có</answer><explain>Cửa sổ có mở.</explain>\"\n",
    "]\n",
    "\n",
    "image_ids_sample_2 = [\"393223\"]\n",
    "\n",
    "problems_sample_2 = [\"Cửa sổ có mở không?\"]\n",
    "\n",
    "accuracy_reward(completions_sample_2, solutions_sample_2, image_ids_sample_2, problems_sample_2)"
   ]
  },
  {
   "cell_type": "code",
   "execution_count": 9,
   "id": "736943cf",
   "metadata": {},
   "outputs": [
    {
     "data": {
      "text/plain": [
       "[0.0]"
      ]
     },
     "execution_count": 9,
     "metadata": {},
     "output_type": "execute_result"
    }
   ],
   "source": [
    "completions_sample_3 = [\n",
    "    \"<thinking><SUMMARY>...</SUMMARY><ANALYSIS>...</ANALYSIS><REASONING_STEPS>...</REASONING_STEPS><CONCLUSION>...</CONCLUSION></thinking><answer>đang ngủ</answer><explain>Người này có vẻ đang nghỉ ngơi.</explain>\"\n",
    "]\n",
    "\n",
    "solutions_sample_3 = [\n",
    "    \"<answer>trượt tuyết</answer><explain>Người đó đang trượt tuyết.</explain>\"\n",
    "]\n",
    "\n",
    "image_ids_sample_3 = [\"262146\"]\n",
    "\n",
    "problems_sample_3 = [\"Người đó đang làm gì?\"]\n",
    "\n",
    "accuracy_reward(completions_sample_3, solutions_sample_3, image_ids_sample_3, problems_sample_3)"
   ]
  }
 ],
 "metadata": {
  "kernelspec": {
   "display_name": "minhtq-vqanle",
   "language": "python",
   "name": "python3"
  },
  "language_info": {
   "codemirror_mode": {
    "name": "ipython",
    "version": 3
   },
   "file_extension": ".py",
   "mimetype": "text/x-python",
   "name": "python",
   "nbconvert_exporter": "python",
   "pygments_lexer": "ipython3",
   "version": "3.10.18"
  }
 },
 "nbformat": 4,
 "nbformat_minor": 5
}
