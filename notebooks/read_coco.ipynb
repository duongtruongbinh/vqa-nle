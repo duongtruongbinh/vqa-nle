{
 "cells": [
  {
   "cell_type": "code",
   "execution_count": 2,
   "id": "6967bb04",
   "metadata": {},
   "outputs": [
    {
     "name": "stdout",
     "output_type": "stream",
     "text": [
      "\u001b[33mWARNING: Ignoring invalid distribution -ransformers (/opt/miniconda3/envs/vqanle-grpo/lib/python3.10/site-packages)\u001b[0m\u001b[33m\n",
      "\u001b[0mCollecting gdown\n",
      "  Using cached gdown-5.2.0-py3-none-any.whl.metadata (5.8 kB)\n",
      "Requirement already satisfied: beautifulsoup4 in /opt/miniconda3/envs/vqanle-grpo/lib/python3.10/site-packages (from gdown) (4.14.2)\n",
      "Requirement already satisfied: filelock in /opt/miniconda3/envs/vqanle-grpo/lib/python3.10/site-packages (from gdown) (3.20.0)\n",
      "Requirement already satisfied: requests[socks] in /opt/miniconda3/envs/vqanle-grpo/lib/python3.10/site-packages (from gdown) (2.32.5)\n",
      "Requirement already satisfied: tqdm in /opt/miniconda3/envs/vqanle-grpo/lib/python3.10/site-packages (from gdown) (4.67.1)\n",
      "Requirement already satisfied: soupsieve>1.2 in /opt/miniconda3/envs/vqanle-grpo/lib/python3.10/site-packages (from beautifulsoup4->gdown) (2.8)\n",
      "Requirement already satisfied: typing-extensions>=4.0.0 in /opt/miniconda3/envs/vqanle-grpo/lib/python3.10/site-packages (from beautifulsoup4->gdown) (4.15.0)\n",
      "Requirement already satisfied: charset_normalizer<4,>=2 in /opt/miniconda3/envs/vqanle-grpo/lib/python3.10/site-packages (from requests[socks]->gdown) (3.4.4)\n",
      "Requirement already satisfied: idna<4,>=2.5 in /opt/miniconda3/envs/vqanle-grpo/lib/python3.10/site-packages (from requests[socks]->gdown) (3.11)\n",
      "Requirement already satisfied: urllib3<3,>=1.21.1 in /opt/miniconda3/envs/vqanle-grpo/lib/python3.10/site-packages (from requests[socks]->gdown) (2.5.0)\n",
      "Requirement already satisfied: certifi>=2017.4.17 in /opt/miniconda3/envs/vqanle-grpo/lib/python3.10/site-packages (from requests[socks]->gdown) (2025.10.5)\n",
      "Collecting PySocks!=1.5.7,>=1.5.6 (from requests[socks]->gdown)\n",
      "  Using cached PySocks-1.7.1-py3-none-any.whl.metadata (13 kB)\n",
      "Using cached gdown-5.2.0-py3-none-any.whl (18 kB)\n",
      "Using cached PySocks-1.7.1-py3-none-any.whl (16 kB)\n",
      "\u001b[33mWARNING: Ignoring invalid distribution -ransformers (/opt/miniconda3/envs/vqanle-grpo/lib/python3.10/site-packages)\u001b[0m\u001b[33m\n",
      "\u001b[0mInstalling collected packages: PySocks, gdown\n",
      "\u001b[2K   \u001b[90m━━━━━━━━━━━━━━━━━━━━━━━━━━━━━━━━━━━━━━━━\u001b[0m \u001b[32m2/2\u001b[0m [gdown]\n",
      "\u001b[1A\u001b[2K\u001b[33mWARNING: Ignoring invalid distribution -ransformers (/opt/miniconda3/envs/vqanle-grpo/lib/python3.10/site-packages)\u001b[0m\u001b[33m\n",
      "\u001b[0mSuccessfully installed PySocks-1.7.1 gdown-5.2.0\n"
     ]
    }
   ],
   "source": [
    "! pip install gdown"
   ]
  },
  {
   "cell_type": "code",
   "execution_count": 3,
   "id": "9e8852ac",
   "metadata": {},
   "outputs": [
    {
     "name": "stdout",
     "output_type": "stream",
     "text": [
      "Đang tải tệp zip...\n"
     ]
    },
    {
     "name": "stderr",
     "output_type": "stream",
     "text": [
      "Downloading...\n",
      "From (original): https://drive.google.com/uc?id=1ziUZxYxyyjN5UCr1JfpLQQv3OEAKmAHX\n",
      "From (redirected): https://drive.google.com/uc?id=1ziUZxYxyyjN5UCr1JfpLQQv3OEAKmAHX&confirm=t&uuid=d4bfff0c-31a6-42f7-95a2-9df050892b53\n",
      "To: /home/vlai-vqa-nle/minhtq/vqa-nle/notebooks/file.zip\n",
      "100%|██████████| 253M/253M [00:22<00:00, 11.1MB/s] \n"
     ]
    },
    {
     "name": "stdout",
     "output_type": "stream",
     "text": [
      "Đang giải nén tệp...\n",
      "Tệp đã được tải xuống và giải nén thành công vào thư mục: '/home/vlai-vqa-nle/minhtq/vqa-nle/data/raw'\n"
     ]
    }
   ],
   "source": [
    "import gdown\n",
    "import zipfile\n",
    "import os\n",
    "\n",
    "# ID của tệp từ URL Google Drive\n",
    "file_id = \"1ziUZxYxyyjN5UCr1JfpLQQv3OEAKmAHX\"\n",
    "output_zip = \"file.zip\"\n",
    "extract_folder = \"/home/vlai-vqa-nle/minhtq/vqa-nle/data/raw\"\n",
    "\n",
    "# Tạo URL tải xuống trực tiếp\n",
    "url = f'https://drive.google.com/uc?id={file_id}'\n",
    "\n",
    "# Tải tệp xuống\n",
    "print(\"Đang tải tệp zip...\")\n",
    "gdown.download(url, output_zip, quiet=False)\n",
    "\n",
    "# Tạo thư mục để giải nén nếu chưa tồn tại\n",
    "if not os.path.exists(extract_folder):\n",
    "    os.makedirs(extract_folder)\n",
    "\n",
    "# Giải nén tệp\n",
    "print(\"Đang giải nén tệp...\")\n",
    "with zipfile.ZipFile(output_zip, 'r') as zip_ref:\n",
    "    zip_ref.extractall(extract_folder)\n",
    "\n",
    "# Xóa tệp zip sau khi giải nén (tùy chọn)\n",
    "os.remove(output_zip)\n",
    "\n",
    "print(f\"Tệp đã được tải xuống và giải nén thành công vào thư mục: '{extract_folder}'\")\n"
   ]
  },
  {
   "cell_type": "code",
   "execution_count": 7,
   "id": "5d8ab303",
   "metadata": {},
   "outputs": [
    {
     "name": "stdout",
     "output_type": "stream",
     "text": [
      "Loading train captions...\n",
      "Loading val captions...\n",
      "\n",
      "Train - Số lượng ảnh có captions: 82783\n",
      "Val - Số lượng ảnh có captions: 40504\n",
      "\n",
      "Ảnh 318556 có 5 captions:\n",
      "  1. A very clean and well decorated empty bathroom\n",
      "  2. A blue and white bathroom with butterfly themed wall tiles.\n",
      "  3. A bathroom with a border of butterflies and blue paint on the walls above it.\n",
      "  4. An angled view of a beautifully decorated bathroom.\n",
      "  5. A clock that blends in with the wall hangs in a bathroom. \n",
      "\n",
      "Thông tin ảnh:\n",
      "  File name: COCO_train2014_000000318556.jpg\n",
      "  Size: 480x640\n",
      "  Full path: /mnt/VLAI_data/COCO_Images/train2014/COCO_train2014_000000318556.jpg\n"
     ]
    }
   ],
   "source": [
    "import json\n",
    "from collections import defaultdict\n",
    "\n",
    "# Đường dẫn đến các file annotations\n",
    "train_captions_path = \"/home/vlai-vqa-nle/minhtq/vqa-nle/data/raw/annotations/captions_train2014.json\"\n",
    "val_captions_path = \"/home/vlai-vqa-nle/minhtq/vqa-nle/data/raw/annotations/captions_val2014.json\"\n",
    "\n",
    "def load_and_map_captions(json_path):\n",
    "    \"\"\"\n",
    "    Load captions và tạo mapping từ image_id đến danh sách captions\n",
    "    \"\"\"\n",
    "    with open(json_path, 'r', encoding='utf-8') as f:\n",
    "        data = json.load(f)\n",
    "    \n",
    "    # Tạo dictionary mapping image_id -> list of captions\n",
    "    image_to_captions = defaultdict(list)\n",
    "    for ann in data['annotations']:\n",
    "        image_to_captions[ann['image_id']].append({\n",
    "            'caption': ann['caption'],\n",
    "            'caption_id': ann['id']\n",
    "        })\n",
    "    \n",
    "    # Tạo dictionary mapping image_id -> image info\n",
    "    image_to_info = {}\n",
    "    for img in data['images']:\n",
    "        image_to_info[img['id']] = img\n",
    "    \n",
    "    return dict(image_to_captions), image_to_info\n",
    "\n",
    "# Load và map captions cho train\n",
    "print(\"Loading train captions...\")\n",
    "train_captions_map, train_images_info = load_and_map_captions(train_captions_path)\n",
    "\n",
    "# Load và map captions cho val\n",
    "print(\"Loading val captions...\")\n",
    "val_captions_map, val_images_info = load_and_map_captions(val_captions_path)\n",
    "\n",
    "print(f\"\\nTrain - Số lượng ảnh có captions: {len(train_captions_map)}\")\n",
    "print(f\"Val - Số lượng ảnh có captions: {len(val_captions_map)}\")\n",
    "\n",
    "# Ví dụ sử dụng: lấy tất cả captions của một ảnh cụ thể\n",
    "example_image_id = 318556\n",
    "if example_image_id in train_captions_map:\n",
    "    print(f\"\\nẢnh {example_image_id} có {len(train_captions_map[example_image_id])} captions:\")\n",
    "    for i, cap_info in enumerate(train_captions_map[example_image_id], 1):\n",
    "        print(f\"  {i}. {cap_info['caption']}\")\n",
    "    \n",
    "    # Lấy thông tin ảnh\n",
    "    img_info = train_images_info[example_image_id]\n",
    "    print(f\"\\nThông tin ảnh:\")\n",
    "    print(f\"  File name: {img_info['file_name']}\")\n",
    "    print(f\"  Size: {img_info['width']}x{img_info['height']}\")\n",
    "    print(f\"  Full path: /mnt/VLAI_data/COCO_Images/train2014/{img_info['file_name']}\")"
   ]
  },
  {
   "cell_type": "code",
   "execution_count": 8,
   "id": "192fabca",
   "metadata": {},
   "outputs": [
    {
     "name": "stdout",
     "output_type": "stream",
     "text": [
      "Saved train to /home/vlai-vqa-nle/minhtq/vqa-nle/data/processed/coco/coco_train2014_with_captions.json\n",
      "Saved val to /home/vlai-vqa-nle/minhtq/vqa-nle/data/processed/coco/coco_val2014_with_captions.json\n"
     ]
    }
   ],
   "source": [
    "import os\n",
    "\n",
    "# Tạo thư mục output\n",
    "output_dir = \"/home/vlai-vqa-nle/minhtq/vqa-nle/data/processed/coco\"\n",
    "os.makedirs(output_dir, exist_ok=True)\n",
    "\n",
    "# Lưu train\n",
    "train_output = os.path.join(output_dir, \"coco_train2014_with_captions.json\")\n",
    "with open(train_output, 'w', encoding='utf-8') as f:\n",
    "    json.dump({\n",
    "        'captions_map': train_captions_map,\n",
    "        'images_info': train_images_info\n",
    "    }, f, ensure_ascii=False, indent=2)\n",
    "print(f\"Saved train to {train_output}\")\n",
    "\n",
    "# Lưu val\n",
    "val_output = os.path.join(output_dir, \"coco_val2014_with_captions.json\")\n",
    "with open(val_output, 'w', encoding='utf-8') as f:\n",
    "    json.dump({\n",
    "        'captions_map': val_captions_map,\n",
    "        'images_info': val_images_info\n",
    "    }, f, ensure_ascii=False, indent=2)\n",
    "print(f\"Saved val to {val_output}\")"
   ]
  }
 ],
 "metadata": {
  "kernelspec": {
   "display_name": "vqanle-grpo",
   "language": "python",
   "name": "python3"
  },
  "language_info": {
   "codemirror_mode": {
    "name": "ipython",
    "version": 3
   },
   "file_extension": ".py",
   "mimetype": "text/x-python",
   "name": "python",
   "nbconvert_exporter": "python",
   "pygments_lexer": "ipython3",
   "version": "3.10.18"
  }
 },
 "nbformat": 4,
 "nbformat_minor": 5
}
